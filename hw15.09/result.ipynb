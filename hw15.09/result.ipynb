{
 "cells": [
  {
   "cell_type": "code",
   "execution_count": 5,
   "metadata": {},
   "outputs": [],
   "source": [
    "from threading import Thread\n",
    "from time import sleep"
   ]
  },
  {
   "cell_type": "code",
   "execution_count": 36,
   "metadata": {},
   "outputs": [
    {
     "name": "stdout",
     "output_type": "stream",
     "text": [
      "1 start\n",
      "2 start\n",
      "3 start\n",
      "4 start\n",
      "5 start\n",
      "6 start\n",
      "5 stop\n",
      "4 stop\n",
      "1 stop\n",
      "6 stop\n",
      "2 stop\n",
      "3 stop\n"
     ]
    }
   ],
   "source": [
    "def wait(amount_of_seconds, number_of_thread):\n",
    "   print(f\"{number_of_thread} start\")\n",
    "   sleep(amount_of_seconds)\n",
    "   print(f\"{number_of_thread} stop\")\n",
    "\n",
    "threads = list()\n",
    "\n",
    "threads.append(Thread(target=wait,args=(1, 1)))\n",
    "threads.append(Thread(target=wait,args=(2, 2)))\n",
    "threads.append(Thread(target=wait,args=(4, 3)))\n",
    "threads.append(Thread(target=wait,args=(0.5, 4)))\n",
    "threads.append(Thread(target=wait,args=(0.01, 5)))\n",
    "threads.append(Thread(target=wait,args=(1.01, 6)))\n",
    "\n",
    "for thread in threads:\n",
    "   thread.start()\n",
    "# треба дочекатися в головному потоці, щоб усі інші виконалися\n",
    "# так ми проходимо через усі потоки і чекаємо кінця їх виконання, якщо поток вже виконався затримки не буде\n",
    "# тобто альтернатино можна було не проходити через усі потоки а дочекатися тільки найдовшого з них \n",
    "for thread in threads:\n",
    "    thread.join()"
   ]
  }
 ],
 "metadata": {
  "kernelspec": {
   "display_name": "Python 3.10.6 64-bit",
   "language": "python",
   "name": "python3"
  },
  "language_info": {
   "codemirror_mode": {
    "name": "ipython",
    "version": 3
   },
   "file_extension": ".py",
   "mimetype": "text/x-python",
   "name": "python",
   "nbconvert_exporter": "python",
   "pygments_lexer": "ipython3",
   "version": "3.10.6"
  },
  "orig_nbformat": 4,
  "vscode": {
   "interpreter": {
    "hash": "eccd75226e7985a707bba84c3291b4d3044020bad2d904541d93f35417b3e00f"
   }
  }
 },
 "nbformat": 4,
 "nbformat_minor": 2
}
